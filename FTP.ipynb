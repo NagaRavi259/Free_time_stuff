{
 "cells": [
  {
   "cell_type": "markdown",
   "id": "79f889ec-b053-42c2-be74-053079584380",
   "metadata": {},
   "source": [
    "## Accessing Ftp server using the python and ftplib module"
   ]
  },
  {
   "cell_type": "code",
   "execution_count": 1,
   "id": "a81775ea-c889-4173-9871-53abb6a045c0",
   "metadata": {},
   "outputs": [],
   "source": [
    "# imported the ftplib\n",
    "from ftplib import FTP "
   ]
  },
  {
   "cell_type": "code",
   "execution_count": 11,
   "id": "cadd3d3a-9054-4c75-b3fd-d83ff7aad418",
   "metadata": {},
   "outputs": [],
   "source": [
    "## Connecting to the FTP server\n",
    "ftp = FTP('100.99.150.11')  # connect to host, default port"
   ]
  },
  {
   "cell_type": "code",
   "execution_count": 13,
   "id": "2b17d9c2-b58c-43a4-87f3-2f85acf1c2c2",
   "metadata": {},
   "outputs": [
    {
     "data": {
      "text/plain": [
       "'230 User logged in.'"
      ]
     },
     "execution_count": 13,
     "metadata": {},
     "output_type": "execute_result"
    }
   ],
   "source": [
    "## Logging tinto the ftp Server\n",
    "ftp.login('UserName.','Password')                     # user anonymous, passwd anonymous@"
   ]
  },
  {
   "cell_type": "code",
   "execution_count": null,
   "id": "616f1cdf-c0d3-4428-a2a9-05e09f910e51",
   "metadata": {},
   "outputs": [],
   "source": [
    "## Reading the Directory form the ftp server\n",
    "ftp.retrlines('LIST') "
   ]
  },
  {
   "cell_type": "code",
   "execution_count": 15,
   "id": "71fa0923-cfca-4819-9bf4-d16d7f49ddb6",
   "metadata": {},
   "outputs": [
    {
     "data": {
      "text/plain": [
       "'250 CWD command successful.'"
      ]
     },
     "execution_count": 15,
     "metadata": {},
     "output_type": "execute_result"
    }
   ],
   "source": [
    "ftp.cwd('Desktop')## Changing the directory to Desktop\n",
    "ftp.retrlines('LIST') ## Reading the Directory form the ftp server"
   ]
  },
  {
   "cell_type": "code",
   "execution_count": 16,
   "id": "68f14427-3670-47c5-acaa-41778a1daa29",
   "metadata": {},
   "outputs": [
    {
     "name": "stdout",
     "output_type": "stream",
     "text": [
      "06-13-22  01:43AM       <DIR>          amazon\n",
      "06-23-22  04:37PM       <DIR>          demo\n",
      "06-17-22  08:56AM       <DIR>          esppython\n",
      "06-17-22  05:50PM                  104 gui_test.py\n",
      "06-17-22  05:50PM                  117 gui_test.py.bak\n",
      "05-02-22  01:54PM                 2315 Insomnia.lnk\n",
      "06-11-22  08:38PM                 3920 new.csv\n",
      "06-15-22  12:04PM                 1350 new1.csv\n",
      "06-22-22  04:29PM       <DIR>          of\n",
      "06-17-22  05:29PM                 1396 Port_Scaner.py\n",
      "06-20-22  11:39PM                  811 quary.py\n",
      "06-20-22  10:51PM                  688 quary.py.bak\n",
      "06-08-22  01:04PM                51959 Screenshot 2022-06-08 130413.png\n",
      "06-21-22  10:19AM                 1287 Tag_list.csv\n",
      "06-21-22  06:03PM                 1446 TAG_list1_OPC.csv\n",
      "05-29-22  12:57PM       <DIR>          workSpace\n"
     ]
    },
    {
     "data": {
      "text/plain": [
       "'226 Transfer complete.'"
      ]
     },
     "execution_count": 16,
     "metadata": {},
     "output_type": "execute_result"
    }
   ],
   "source": []
  },
  {
   "cell_type": "code",
   "execution_count": null,
   "id": "54c83ada-c5f7-46bb-b4a9-8fbe77b3c0cf",
   "metadata": {},
   "outputs": [],
   "source": [
    "A = 'Tag_list.csv' ## Creating a variable to acess the Ftp file in the server\n",
    "ftp.retrbinary(\"RETR \" + 'Tag_list.csv' ,open(A, 'wb').write) ## downloading the file form the ftp server to our server"
   ]
  },
  {
   "cell_type": "code",
   "execution_count": null,
   "id": "09fadf32-3795-444e-9bcb-dd3547f50af0",
   "metadata": {},
   "outputs": [],
   "source": [
    "ftp.cwd('debian')               # change into \"debian\" directory\n",
    "ftp.retrlines('LIST')           # reading directory contents\n",
    "with open('README', 'wb') as fp:   ## Opening new file into server\n",
    "    ftp.retrbinary('RETR README', fp.write) ## Writing the file iunto the server\n",
    "ftp.quit() ## Closing the ftp server"
   ]
  },
  {
   "cell_type": "code",
   "execution_count": null,
   "id": "9fe73272-fc46-42d8-96f1-75b52ca266de",
   "metadata": {},
   "outputs": [],
   "source": []
  },
  {
   "cell_type": "code",
   "execution_count": null,
   "id": "dcecc3cd-5ceb-42e8-b3dc-14afacfa58f4",
   "metadata": {},
   "outputs": [],
   "source": []
  }
 ],
 "metadata": {
  "kernelspec": {
   "display_name": "Python 3 (ipykernel)",
   "language": "python",
   "name": "python3"
  },
  "language_info": {
   "codemirror_mode": {
    "name": "ipython",
    "version": 3
   },
   "file_extension": ".py",
   "mimetype": "text/x-python",
   "name": "python",
   "nbconvert_exporter": "python",
   "pygments_lexer": "ipython3",
   "version": "3.9.7"
  }
 },
 "nbformat": 4,
 "nbformat_minor": 5
}
