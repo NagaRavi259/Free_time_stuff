{
 "cells": [
  {
   "cell_type": "code",
   "execution_count": null,
   "id": "473b803c",
   "metadata": {},
   "outputs": [],
   "source": [
    "import os\n",
    "## Reading the binary data file and Conveting into readable formate\n",
    "location=input(\"Files directory: \")\n",
    "os.chdir(location)\n",
    "directory = os.getcwd()\n",
    "k=os.listdir(directory)\n",
    "g=[]\n",
    "for i in k:\n",
    "    print(i)\n",
    "    path = i\n",
    "    with open(path, 'rb') as fin:\n",
    "        while True:\n",
    "            data = fin.read(16)\n",
    "            if len(data) == 0:\n",
    "                break\n",
    "            # iterate over each byte in byte sequence\n",
    "            for b in data:\n",
    "                g.append(' {:02x}'.format(b))\n",
    "            #print()\n",
    "    f=open(i+\".txt\",'w')\n",
    "    for ele in g:\n",
    "        f.write(ele+'\\n')\n",
    "    f.close()"
   ]
  },
  {
   "cell_type": "code",
   "execution_count": null,
   "id": "42e7e252",
   "metadata": {},
   "outputs": [],
   "source": []
  }
 ],
 "metadata": {
  "kernelspec": {
   "display_name": "Python 3 (ipykernel)",
   "language": "python",
   "name": "python3"
  },
  "language_info": {
   "codemirror_mode": {
    "name": "ipython",
    "version": 3
   },
   "file_extension": ".py",
   "mimetype": "text/x-python",
   "name": "python",
   "nbconvert_exporter": "python",
   "pygments_lexer": "ipython3",
   "version": "3.9.7"
  }
 },
 "nbformat": 4,
 "nbformat_minor": 5
}
