{
 "cells": [
  {
   "cell_type": "code",
   "execution_count": null,
   "id": "be8f2479",
   "metadata": {},
   "outputs": [],
   "source": [
    "def checkIfDuplicates_1(listOfElems):\n",
    "    flag = False\n",
    "\n",
    "    for i in listOfElems:\n",
    "        for j in i:\n",
    "            if i.count(j)>1:\n",
    "                flag=True\n",
    "    return flag\n",
    "\n",
    "size = int(input(\"Input the size of the matrix: \"))\n",
    "matrix = [[0] * size for row in range(0, size)]\n",
    "for x in range(0, size):\n",
    "    line = list(map(int, input().split()))\n",
    "    for y in range(0, size):\n",
    "        matrix[x][y] = line[y]\n",
    "matrix_sum_diagonal = sum(matrix[size - i - 1][size - i - 1] for i in range(size))\n",
    "#print(matrix)\n",
    "\n",
    "\n",
    "result = checkIfDuplicates_1(matrix)\n",
    "if result:\n",
    "    print('False')\n",
    "else:\n",
    "    print('True')"
   ]
  },
  {
   "cell_type": "code",
   "execution_count": null,
   "id": "998f9c5f",
   "metadata": {},
   "outputs": [],
   "source": [
    "lst=[5,6,8,36,5,8,3,2]\n",
    "h=0\n",
    "for i in range(0, len(s)-1, 2):\n",
    "    if lst[i]>lst[i+1]:\n",
    "        h=lst[i]\n",
    "    else:\n",
    "        h=lst[i+1]\n",
    "print(h)"
   ]
  },
  {
   "cell_type": "code",
   "execution_count": null,
   "id": "913c86c1",
   "metadata": {},
   "outputs": [],
   "source": [
    "print(max(lst))"
   ]
  },
  {
   "cell_type": "code",
   "execution_count": null,
   "id": "553f4bf5",
   "metadata": {},
   "outputs": [],
   "source": [
    "def solve(s):\n",
    "   s = list(s)\n",
    "   for i in range(0, len(s)-1, 2):\n",
    "      s[i], s[i+1] = s[i+1], s[i]\n",
    "\n",
    "   return ''.join(s)\n",
    "\n",
    "s = \"programming\"\n",
    "print(solve(s))"
   ]
  },
  {
   "cell_type": "code",
   "execution_count": null,
   "id": "9a2372f6",
   "metadata": {},
   "outputs": [],
   "source": [
    "lst = list(map(int, input().split()))\n",
    "for i in range(len(lst)):\n",
    "    \n",
    "    if max(lst)==lst[i]:\n",
    "        print(i)"
   ]
  },
  {
   "cell_type": "code",
   "execution_count": null,
   "id": "25c8752c",
   "metadata": {},
   "outputs": [],
   "source": [
    "k=[input().split(\" \")]"
   ]
  },
  {
   "cell_type": "code",
   "execution_count": null,
   "id": "5d618571",
   "metadata": {},
   "outputs": [],
   "source": [
    "lst.index(max(lst))"
   ]
  },
  {
   "cell_type": "code",
   "execution_count": null,
   "id": "6f470d59",
   "metadata": {},
   "outputs": [],
   "source": [
    "string1 = input(\"Enter the first string: \")\n",
    "string2 = input(\"Enter the second string: \")\n",
    "k=\"\"\n",
    "for i in string1:\n",
    "    if i in string2:\n",
    "        k=False\n",
    "    else:\n",
    "        k=False\n",
    "if k==True:\n",
    "    print(\"No\")\n",
    "else:\n",
    "    print(\"Yes\")\n",
    "    "
   ]
  },
  {
   "cell_type": "code",
   "execution_count": null,
   "id": "ffe15a6e",
   "metadata": {
    "scrolled": true
   },
   "outputs": [],
   "source": [
    "string1 = input(\"Enter the first string: \")\n",
    "string2 = input(\"Enter the second string: \")"
   ]
  },
  {
   "cell_type": "code",
   "execution_count": null,
   "id": "f802ec70",
   "metadata": {},
   "outputs": [],
   "source": [
    "k=string2[-2:]\n",
    "l=k[::-1]\n",
    "j=string2[0:2]\n",
    "m=l+j"
   ]
  },
  {
   "cell_type": "code",
   "execution_count": null,
   "id": "40716d1b",
   "metadata": {},
   "outputs": [],
   "source": [
    "#print(k)\n",
    "print(j)\n",
    "print(m)\n",
    "print(l)"
   ]
  },
  {
   "cell_type": "code",
   "execution_count": null,
   "id": "def10045",
   "metadata": {},
   "outputs": [],
   "source": [
    "print(m)\n",
    "print(string1)"
   ]
  },
  {
   "cell_type": "code",
   "execution_count": null,
   "id": "aab8aaa3",
   "metadata": {
    "scrolled": true
   },
   "outputs": [],
   "source": [
    "j"
   ]
  },
  {
   "cell_type": "code",
   "execution_count": 3,
   "id": "dee21366",
   "metadata": {},
   "outputs": [
    {
     "name": "stdout",
     "output_type": "stream",
     "text": [
      "439\n",
      "2\n"
     ]
    }
   ],
   "source": [
    "def binary(n):\n",
    "    r=\"\"\n",
    "    count=0\n",
    "    while (n>0):\n",
    "        remainder=int(n%2)\n",
    "        n=int(n/2)\n",
    "        r=r+str(remainder)\n",
    "    binary=r[::-1]\n",
    "    for i in binary:\n",
    "        if int(i)==1:\n",
    "            count+=1\n",
    "        else:\n",
    "            break\n",
    "    return count\n",
    "n=int(input())\n",
    "if 1<=n<=10**6:\n",
    "    binary(n)\n",
    "    print(binary(n))"
   ]
  },
  {
   "cell_type": "code",
   "execution_count": 101,
   "id": "bc045fca",
   "metadata": {
    "scrolled": true
   },
   "outputs": [
    {
     "name": "stdout",
     "output_type": "stream",
     "text": [
      "439\n",
      "110110111\n",
      "2\n"
     ]
    }
   ],
   "source": [
    "count=0\n",
    "n = int(input().strip())\n",
    "binary = str(bin(n))\n",
    "binary=binary.replace(\"0b\",\"\")\n",
    "#print(binary)\n",
    "#binary1=binary[::-1]\n",
    "print(binary)\n",
    "for i in binary:\n",
    "    \n",
    "    if int(i)==1:\n",
    "        count+=1\n",
    "    else:\n",
    "        break\n",
    "print(count)"
   ]
  },
  {
   "cell_type": "code",
   "execution_count": 61,
   "id": "066be0e8",
   "metadata": {},
   "outputs": [
    {
     "name": "stdout",
     "output_type": "stream",
     "text": [
      "12\n"
     ]
    }
   ],
   "source": [
    "n = int(input().strip())\n",
    "r=\"\"\n",
    "count=0\n",
    "while (n>0):\n",
    "    remainder=n%2\n",
    "    n=int(n/2)\n",
    "    r+=str(remainder)"
   ]
  },
  {
   "cell_type": "code",
   "execution_count": 67,
   "id": "d83a5442",
   "metadata": {
    "scrolled": true
   },
   "outputs": [
    {
     "data": {
      "text/plain": [
       "'111011011'"
      ]
     },
     "execution_count": 67,
     "metadata": {},
     "output_type": "execute_result"
    }
   ],
   "source": [
    "r"
   ]
  },
  {
   "cell_type": "code",
   "execution_count": 65,
   "id": "bc893f5d",
   "metadata": {
    "scrolled": true
   },
   "outputs": [
    {
     "data": {
      "text/plain": [
       "'1111101'"
      ]
     },
     "execution_count": 65,
     "metadata": {},
     "output_type": "execute_result"
    }
   ],
   "source": [
    "r[::-1]"
   ]
  },
  {
   "cell_type": "code",
   "execution_count": 75,
   "id": "c001ba27",
   "metadata": {},
   "outputs": [
    {
     "name": "stdout",
     "output_type": "stream",
     "text": [
      "439\n",
      "0110110111"
     ]
    }
   ],
   "source": [
    "def DecimalToBinary(num):\n",
    "     \n",
    "    if num >= 1:\n",
    "        DecimalToBinary(num // 2)\n",
    "    print(num % 2, end = '')\n",
    "i=int(input())\n",
    "DecimalToBinary(i)\n",
    " "
   ]
  },
  {
   "cell_type": "code",
   "execution_count": 102,
   "id": "6d2c2339",
   "metadata": {},
   "outputs": [
    {
     "name": "stdout",
     "output_type": "stream",
     "text": [
      "125\n",
      "5\n"
     ]
    }
   ],
   "source": [
    "#!/bin/python\n",
    "\n",
    "import sys\n",
    "\n",
    "n = int(input().strip())\n",
    "binary = str(bin(n))\n",
    "#print binary\n",
    "tot=0\n",
    "tmp=0\n",
    "for i in binary:\n",
    "    if i=='1':\n",
    "        tmp+=1\n",
    "    else:\n",
    "        tot=max(tot,tmp)\n",
    "        tmp=0\n",
    "tot=max(tot,tmp)\n",
    "print(tot)"
   ]
  },
  {
   "cell_type": "code",
   "execution_count": 106,
   "id": "ffc60566",
   "metadata": {},
   "outputs": [
    {
     "name": "stdout",
     "output_type": "stream",
     "text": [
      "1 1 1 0 0 0\n",
      "0 1 0 0 0 0\n",
      "1 1 1 0 0 0\n",
      "0 0 0 0 0 0\n",
      "0 0 0 0 0 0\n",
      "0 0 0 0 0 0\n"
     ]
    }
   ],
   "source": [
    "#!/bin/python3\n",
    "\n",
    "import math\n",
    "import os\n",
    "import random\n",
    "import re\n",
    "import sys\n",
    "\n",
    "\n",
    "\n",
    "if __name__ == '__main__':\n",
    "\n",
    "    arr = []\n",
    "\n",
    "    for _ in range(6):\n",
    "        arr.append(list(map(int, input().rstrip().split())))\n"
   ]
  },
  {
   "cell_type": "code",
   "execution_count": 107,
   "id": "6cf49021",
   "metadata": {},
   "outputs": [
    {
     "name": "stdout",
     "output_type": "stream",
     "text": [
      "7\n"
     ]
    }
   ],
   "source": [
    "res = []\n",
    "\n",
    "for x in range(0, 4):\n",
    "    for y in range(0, 4):\n",
    "        s = sum(arr[x][y:y+3]) + arr[x+1][y+1] + sum(arr[x+2][y:y+3])\n",
    "        res.append(s)\n",
    "\n",
    "print(max(res))\n",
    "\n"
   ]
  },
  {
   "cell_type": "code",
   "execution_count": 108,
   "id": "8ec19026",
   "metadata": {},
   "outputs": [
    {
     "data": {
      "text/plain": [
       "[7, 4, 2, 0, 2, 2, 0, 0, 3, 2, 1, 0, 0, 0, 0, 0]"
      ]
     },
     "execution_count": 108,
     "metadata": {},
     "output_type": "execute_result"
    }
   ],
   "source": [
    "res"
   ]
  },
  {
   "cell_type": "code",
   "execution_count": null,
   "id": "99ac57e6",
   "metadata": {},
   "outputs": [],
   "source": []
  }
 ],
 "metadata": {
  "kernelspec": {
   "display_name": "Python 3 (ipykernel)",
   "language": "python",
   "name": "python3"
  },
  "language_info": {
   "codemirror_mode": {
    "name": "ipython",
    "version": 3
   },
   "file_extension": ".py",
   "mimetype": "text/x-python",
   "name": "python",
   "nbconvert_exporter": "python",
   "pygments_lexer": "ipython3",
   "version": "3.9.7"
  }
 },
 "nbformat": 4,
 "nbformat_minor": 5
}
