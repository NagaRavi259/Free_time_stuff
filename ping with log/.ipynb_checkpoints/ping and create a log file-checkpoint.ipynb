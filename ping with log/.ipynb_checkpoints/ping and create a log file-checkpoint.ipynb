{
 "cells": [
  {
   "cell_type": "markdown",
   "id": "a017a6c1-6c60-49b0-b3fa-aa40afaacb09",
   "metadata": {},
   "source": [
    "## pinging the edge box and storing it into a files for future use cases\n",
    "- in this script we are constantly checking the status of the ip and and storing it into the file so we co-relate the data loss with time and whats the issue"
   ]
  },
  {
   "cell_type": "code",
   "execution_count": 5,
   "id": "0592ca03",
   "metadata": {
    "scrolled": true
   },
   "outputs": [],
   "source": [
    "from datetime import datetime\n",
    "import time as t\n",
    "from ping3 import ping"
   ]
  },
  {
   "cell_type": "code",
   "execution_count": null,
   "id": "821c2148",
   "metadata": {
    "scrolled": true
   },
   "outputs": [],
   "source": [
    "file1 = open(\"log.txt\",\"w\")\n",
    "while True:\n",
    "    resp=ping(\"192.168.0.1\")\n",
    "    time=datetime.now()\n",
    "    now = time.strftime(\"%H:%M:%S\")\n",
    "    if resp == None:\n",
    "        file1.write(\"False\"+\",\"+ now + \" \\n\")\n",
    "        print(\"true\")\n",
    "    else:\n",
    "        file1.write(\"True\"+\",\"+ now +\" \\n\")\n",
    "        print(\"false\")\n",
    "    t.sleep(1)\n",
    "    file1.flush()"
   ]
  },
  {
   "cell_type": "code",
   "execution_count": null,
   "id": "cc3630ba",
   "metadata": {},
   "outputs": [],
   "source": []
  }
 ],
 "metadata": {
  "kernelspec": {
   "display_name": "Python 3 (ipykernel)",
   "language": "python",
   "name": "python3"
  },
  "language_info": {
   "codemirror_mode": {
    "name": "ipython",
    "version": 3
   },
   "file_extension": ".py",
   "mimetype": "text/x-python",
   "name": "python",
   "nbconvert_exporter": "python",
   "pygments_lexer": "ipython3",
   "version": "3.9.7"
  }
 },
 "nbformat": 4,
 "nbformat_minor": 5
}
