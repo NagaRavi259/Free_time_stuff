{
 "cells": [
  {
   "cell_type": "code",
   "execution_count": 4,
   "id": "3914da24",
   "metadata": {},
   "outputs": [],
   "source": [
    "import requests"
   ]
  },
  {
   "cell_type": "code",
   "execution_count": 2,
   "id": "c133f196",
   "metadata": {},
   "outputs": [],
   "source": [
    "previous_status ='0'\n",
    "while True:\n",
    "    status = input(\"press 1 or 0 = \")\n",
    "    if status == previous_status:\n",
    "        pass\n",
    "    else:\n",
    "        previous_status=status\n",
    "        if '0'==previous_status:\n",
    "            print('server was down')\n",
    "        else:\n",
    "            print('server was running')"
   ]
  },
  {
   "cell_type": "code",
   "execution_count": null,
   "id": "bca2bd37",
   "metadata": {},
   "outputs": [],
   "source": []
  },
  {
   "cell_type": "code",
   "execution_count": null,
   "id": "b0b4b50c",
   "metadata": {},
   "outputs": [],
   "source": []
  }
 ],
 "metadata": {
  "kernelspec": {
   "display_name": "Python 3 (ipykernel)",
   "language": "python",
   "name": "python3"
  },
  "language_info": {
   "codemirror_mode": {
    "name": "ipython",
    "version": 3
   },
   "file_extension": ".py",
   "mimetype": "text/x-python",
   "name": "python",
   "nbconvert_exporter": "python",
   "pygments_lexer": "ipython3",
   "version": "3.9.7"
  }
 },
 "nbformat": 4,
 "nbformat_minor": 5
}
