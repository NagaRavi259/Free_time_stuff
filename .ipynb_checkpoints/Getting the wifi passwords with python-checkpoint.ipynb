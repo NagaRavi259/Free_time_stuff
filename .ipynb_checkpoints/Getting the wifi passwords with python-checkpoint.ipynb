{
 "cells": [
  {
   "cell_type": "markdown",
   "id": "a4dfd891-90a4-4ab8-8fce-da8c79c4386b",
   "metadata": {},
   "source": [
    "## Reading all Wi-fi passwords stored in the windows system\n",
    "- we are using the python and Subprocess module to read all the wifi passwords stored in the windows system and getting the output formulated "
   ]
  },
  {
   "cell_type": "code",
   "execution_count": 3,
   "id": "3e2bca7d-4cae-43b0-8597-b85c2fd0d674",
   "metadata": {},
   "outputs": [],
   "source": [
    "import subprocess"
   ]
  },
  {
   "cell_type": "code",
   "execution_count": null,
   "id": "63b33bb7-351c-4b9e-a730-513a13410712",
   "metadata": {},
   "outputs": [],
   "source": [
    "# data = subprocess.check_output(\"netsh wlan show profiles\", shell=True, universal_newlines=True)\n",
    "data = subprocess.check_output(\"netsh wlan show profiles\").decode('utf-8').split('\\n')\n",
    "\n",
    "#.decode('utf-8').split('\\n')\n",
    "profiles = [i.split(\":\")[1][1:-1] for i in data if \"All User Profile\" in i]\n",
    "for i in profiles:\n",
    "    results = subprocess.check_output(['netsh', 'wlan', 'show', 'profile', i, 'key=clear']).decode('utf-8').split('\\n')\n",
    "    results = [b.split(\":\")[1][1:-1] for b in results if \"Key Content\" in b]\n",
    "    try:\n",
    "        print (\"{:<30}|  {:<}\".format(i, results[0]))\n",
    "    except IndexError:\n",
    "        print (\"{:<30}|  {:<}\".format(i, \"\"))"
   ]
  },
  {
   "cell_type": "markdown",
   "id": "443cc2e4-2804-455b-81f0-9d7aea99d94b",
   "metadata": {},
   "source": [
    "## using python and subprocess module to get ip address of the system"
   ]
  },
  {
   "cell_type": "code",
   "execution_count": null,
   "id": "66fdf549-b189-4705-8ac6-9a8d8235f856",
   "metadata": {
    "scrolled": true,
    "tags": []
   },
   "outputs": [],
   "source": [
    "# Executing the CMD command wit python and saving the output of cmd into a variable\n",
    "returned_text = subprocess.check_output(\"ipconfig\" , shell=True, universal_newlines=True)\n",
    "print(returned_text)"
   ]
  },
  {
   "cell_type": "code",
   "execution_count": 6,
   "id": "63e97e97-0585-4156-a142-f8ecda133054",
   "metadata": {},
   "outputs": [
    {
     "data": {
      "text/plain": [
       "'192.168.1.41'"
      ]
     },
     "execution_count": 6,
     "metadata": {},
     "output_type": "execute_result"
    }
   ],
   "source": [
    "kl=returned_text.split(\"Wireless LAN adapter Wi-Fi\")[1]\n",
    "ip_Adsress = kl.split(\"\\n\")[6].split(\":\")[1].strip(\" \")\n",
    "ip_Adsress"
   ]
  },
  {
   "cell_type": "code",
   "execution_count": null,
   "id": "bfe2a8db-ae1e-48dd-b6d1-ee2937c68579",
   "metadata": {},
   "outputs": [],
   "source": []
  }
 ],
 "metadata": {
  "kernelspec": {
   "display_name": "Python 3 (ipykernel)",
   "language": "python",
   "name": "python3"
  },
  "language_info": {
   "codemirror_mode": {
    "name": "ipython",
    "version": 3
   },
   "file_extension": ".py",
   "mimetype": "text/x-python",
   "name": "python",
   "nbconvert_exporter": "python",
   "pygments_lexer": "ipython3",
   "version": "3.9.7"
  }
 },
 "nbformat": 4,
 "nbformat_minor": 5
}
