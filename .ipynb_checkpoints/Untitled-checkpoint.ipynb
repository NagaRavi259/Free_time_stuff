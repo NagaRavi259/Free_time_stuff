{
 "cells": [
  {
   "cell_type": "code",
   "execution_count": 4,
   "id": "be8f2479",
   "metadata": {},
   "outputs": [
    {
     "name": "stdout",
     "output_type": "stream",
     "text": [
      "Input the size of the matrix: 3\n",
      "1 2 3\n",
      "4 2 2\n",
      "5 6 8\n",
      "[[1, 2, 3], [4, 2, 2], [5, 6, 8]]\n",
      "False\n"
     ]
    }
   ],
   "source": [
    "def checkIfDuplicates_1(listOfElems):\n",
    "    flag = False\n",
    "\n",
    "    for i in listOfElems:\n",
    "        for j in i:\n",
    "            if i.count(j)>1:\n",
    "                flag=True\n",
    "    return flag\n",
    "\n",
    "size = int(input(\"Input the size of the matrix: \"))\n",
    "matrix = [[0] * size for row in range(0, size)]\n",
    "for x in range(0, size):\n",
    "    line = list(map(int, input().split()))\n",
    "    for y in range(0, size):\n",
    "        matrix[x][y] = line[y]\n",
    "matrix_sum_diagonal = sum(matrix[size - i - 1][size - i - 1] for i in range(size))\n",
    "#print(matrix)\n",
    "\n",
    "\n",
    "result = checkIfDuplicates_1(matrix)\n",
    "if result:\n",
    "    print('False')\n",
    "else:\n",
    "    print('True')"
   ]
  },
  {
   "cell_type": "code",
   "execution_count": 21,
   "id": "998f9c5f",
   "metadata": {},
   "outputs": [
    {
     "ename": "IndexError",
     "evalue": "list index out of range",
     "output_type": "error",
     "traceback": [
      "\u001b[1;31m---------------------------------------------------------------------------\u001b[0m",
      "\u001b[1;31mIndexError\u001b[0m                                Traceback (most recent call last)",
      "\u001b[1;32m~\\AppData\\Local\\Temp/ipykernel_6464/4030336793.py\u001b[0m in \u001b[0;36m<module>\u001b[1;34m\u001b[0m\n\u001b[0;32m      2\u001b[0m \u001b[0mh\u001b[0m\u001b[1;33m=\u001b[0m\u001b[1;36m0\u001b[0m\u001b[1;33m\u001b[0m\u001b[1;33m\u001b[0m\u001b[0m\n\u001b[0;32m      3\u001b[0m \u001b[1;32mfor\u001b[0m \u001b[0mi\u001b[0m \u001b[1;32min\u001b[0m \u001b[0mrange\u001b[0m\u001b[1;33m(\u001b[0m\u001b[1;36m0\u001b[0m\u001b[1;33m,\u001b[0m \u001b[0mlen\u001b[0m\u001b[1;33m(\u001b[0m\u001b[0ms\u001b[0m\u001b[1;33m)\u001b[0m\u001b[1;33m-\u001b[0m\u001b[1;36m1\u001b[0m\u001b[1;33m,\u001b[0m \u001b[1;36m2\u001b[0m\u001b[1;33m)\u001b[0m\u001b[1;33m:\u001b[0m\u001b[1;33m\u001b[0m\u001b[1;33m\u001b[0m\u001b[0m\n\u001b[1;32m----> 4\u001b[1;33m     \u001b[1;32mif\u001b[0m \u001b[0mlst\u001b[0m\u001b[1;33m[\u001b[0m\u001b[0mi\u001b[0m\u001b[1;33m]\u001b[0m\u001b[1;33m>\u001b[0m\u001b[0mlst\u001b[0m\u001b[1;33m[\u001b[0m\u001b[0mi\u001b[0m\u001b[1;33m+\u001b[0m\u001b[1;36m1\u001b[0m\u001b[1;33m]\u001b[0m\u001b[1;33m:\u001b[0m\u001b[1;33m\u001b[0m\u001b[1;33m\u001b[0m\u001b[0m\n\u001b[0m\u001b[0;32m      5\u001b[0m         \u001b[0mh\u001b[0m\u001b[1;33m=\u001b[0m\u001b[0mlst\u001b[0m\u001b[1;33m[\u001b[0m\u001b[0mi\u001b[0m\u001b[1;33m]\u001b[0m\u001b[1;33m\u001b[0m\u001b[1;33m\u001b[0m\u001b[0m\n\u001b[0;32m      6\u001b[0m     \u001b[1;32melse\u001b[0m\u001b[1;33m:\u001b[0m\u001b[1;33m\u001b[0m\u001b[1;33m\u001b[0m\u001b[0m\n",
      "\u001b[1;31mIndexError\u001b[0m: list index out of range"
     ]
    }
   ],
   "source": [
    "lst=[5,6,8,36,5,8,3,2]\n",
    "h=0\n",
    "for i in range(0, len(s)-1, 2):\n",
    "    if lst[i]>lst[i+1]:\n",
    "        h=lst[i]\n",
    "    else:\n",
    "        h=lst[i+1]\n",
    "print(h)"
   ]
  },
  {
   "cell_type": "code",
   "execution_count": 10,
   "id": "913c86c1",
   "metadata": {},
   "outputs": [
    {
     "name": "stdout",
     "output_type": "stream",
     "text": [
      "36\n"
     ]
    }
   ],
   "source": [
    "print(max(lst))"
   ]
  },
  {
   "cell_type": "code",
   "execution_count": 20,
   "id": "553f4bf5",
   "metadata": {},
   "outputs": [
    {
     "name": "stdout",
     "output_type": "stream",
     "text": [
      "rpgoarmmnig\n"
     ]
    }
   ],
   "source": [
    "def solve(s):\n",
    "   s = list(s)\n",
    "   for i in range(0, len(s)-1, 2):\n",
    "      s[i], s[i+1] = s[i+1], s[i]\n",
    "\n",
    "   return ''.join(s)\n",
    "\n",
    "s = \"programming\"\n",
    "print(solve(s))"
   ]
  },
  {
   "cell_type": "code",
   "execution_count": 2,
   "id": "9a2372f6",
   "metadata": {},
   "outputs": [
    {
     "name": "stdout",
     "output_type": "stream",
     "text": [
      "1 2 5 2 8 12 8\n",
      "5\n"
     ]
    }
   ],
   "source": [
    "lst = list(map(int, input().split()))\n",
    "for i in range(len(lst)):\n",
    "    \n",
    "    if max(lst)==lst[i]:\n",
    "        print(i)"
   ]
  },
  {
   "cell_type": "code",
   "execution_count": 3,
   "id": "25c8752c",
   "metadata": {},
   "outputs": [
    {
     "name": "stdout",
     "output_type": "stream",
     "text": [
      "1 2 3 5  86 5 9 h 5\n"
     ]
    }
   ],
   "source": [
    "k=[input().split(\" \")]"
   ]
  },
  {
   "cell_type": "code",
   "execution_count": 7,
   "id": "5d618571",
   "metadata": {},
   "outputs": [
    {
     "data": {
      "text/plain": [
       "5"
      ]
     },
     "execution_count": 7,
     "metadata": {},
     "output_type": "execute_result"
    }
   ],
   "source": [
    "lst.index(max(lst))"
   ]
  },
  {
   "cell_type": "code",
   "execution_count": 37,
   "id": "6f470d59",
   "metadata": {},
   "outputs": [
    {
     "name": "stdout",
     "output_type": "stream",
     "text": [
      "Enter the first string: king\n",
      "Enter the second string: ikng\n",
      "Yes\n"
     ]
    }
   ],
   "source": [
    "string1 = input(\"Enter the first string: \")\n",
    "string2 = input(\"Enter the second string: \")\n",
    "k=\"\"\n",
    "for i in string1:\n",
    "    if i in string2:\n",
    "        k=False\n",
    "    else:\n",
    "        k=False\n",
    "if k==True:\n",
    "    print(\"No\")\n",
    "else:\n",
    "    print(\"Yes\")\n",
    "    "
   ]
  },
  {
   "cell_type": "code",
   "execution_count": 10,
   "id": "ffe15a6e",
   "metadata": {},
   "outputs": [
    {
     "name": "stdout",
     "output_type": "stream",
     "text": [
      "Enter the first string: aabb\n",
      "Enter the second string: bbaa\n"
     ]
    }
   ],
   "source": [
    "string1 = input(\"Enter the first string: \")\n",
    "string2 = input(\"Enter the second string: \")"
   ]
  },
  {
   "cell_type": "code",
   "execution_count": 28,
   "id": "f802ec70",
   "metadata": {},
   "outputs": [],
   "source": [
    "k=string1[-2:]\n",
    "j=string1[0:-2]"
   ]
  },
  {
   "cell_type": "code",
   "execution_count": 25,
   "id": "def10045",
   "metadata": {},
   "outputs": [
    {
     "name": "stdout",
     "output_type": "stream",
     "text": [
      "bbaabb\n"
     ]
    }
   ],
   "source": [
    "print(k+string1)"
   ]
  },
  {
   "cell_type": "code",
   "execution_count": 27,
   "id": "aab8aaa3",
   "metadata": {},
   "outputs": [
    {
     "data": {
      "text/plain": [
       "'a'"
      ]
     },
     "execution_count": 27,
     "metadata": {},
     "output_type": "execute_result"
    }
   ],
   "source": [
    "j"
   ]
  },
  {
   "cell_type": "code",
   "execution_count": null,
   "id": "dee21366",
   "metadata": {},
   "outputs": [],
   "source": []
  }
 ],
 "metadata": {
  "kernelspec": {
   "display_name": "Python 3 (ipykernel)",
   "language": "python",
   "name": "python3"
  },
  "language_info": {
   "codemirror_mode": {
    "name": "ipython",
    "version": 3
   },
   "file_extension": ".py",
   "mimetype": "text/x-python",
   "name": "python",
   "nbconvert_exporter": "python",
   "pygments_lexer": "ipython3",
   "version": "3.9.7"
  }
 },
 "nbformat": 4,
 "nbformat_minor": 5
}
