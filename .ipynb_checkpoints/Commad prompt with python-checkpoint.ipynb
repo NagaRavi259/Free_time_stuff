{
 "cells": [
  {
   "cell_type": "markdown",
   "id": "2746bd38-b1b4-42ee-b0b2-1cfcb0e1e425",
   "metadata": {
    "tags": []
   },
   "source": [
    "## Executing the Command prompt commands and catching the output with python\n",
    "- We are using the python to execute the windows command prompt  commands with python and catching the output of the command prompt and manipulating the output using the subprocess module"
   ]
  },
  {
   "cell_type": "code",
   "execution_count": null,
   "id": "9a9dccc6-e805-4cf3-bad7-44337b262b12",
   "metadata": {},
   "outputs": [],
   "source": [
    "from datetime import datetime\n",
    "import subprocess\n",
    "\n",
    "kl = subprocess.check_output(\"ipconfig\", shell=True, universal_newlines=True)\n",
    "print(kl)"
   ]
  },
  {
   "cell_type": "code",
   "execution_count": 8,
   "id": "25cbe049-bcea-49f8-822d-a0c176663a44",
   "metadata": {},
   "outputs": [
    {
     "ename": "IndexError",
     "evalue": "list index out of range",
     "output_type": "error",
     "traceback": [
      "\u001b[1;31m---------------------------------------------------------------------------\u001b[0m",
      "\u001b[1;31mIndexError\u001b[0m                                Traceback (most recent call last)",
      "\u001b[1;32m~\\AppData\\Local\\Temp/ipykernel_17468/565573607.py\u001b[0m in \u001b[0;36m<module>\u001b[1;34m\u001b[0m\n\u001b[1;32m----> 1\u001b[1;33m \u001b[0mkl\u001b[0m\u001b[1;33m[\u001b[0m\u001b[1;36m1\u001b[0m\u001b[1;33m]\u001b[0m\u001b[1;33m.\u001b[0m\u001b[0msplit\u001b[0m\u001b[1;33m(\u001b[0m\u001b[1;34m\"\\n\"\u001b[0m\u001b[1;33m)\u001b[0m\u001b[1;33m[\u001b[0m\u001b[1;36m4\u001b[0m\u001b[1;33m]\u001b[0m\u001b[1;33m.\u001b[0m\u001b[0msplit\u001b[0m\u001b[1;33m(\u001b[0m\u001b[1;34m\":\"\u001b[0m\u001b[1;33m)\u001b[0m\u001b[1;33m[\u001b[0m\u001b[1;36m1\u001b[0m\u001b[1;33m]\u001b[0m\u001b[1;33m.\u001b[0m\u001b[0mstrip\u001b[0m\u001b[1;33m(\u001b[0m\u001b[1;34m\" \"\u001b[0m\u001b[1;33m)\u001b[0m\u001b[1;33m\u001b[0m\u001b[1;33m\u001b[0m\u001b[0m\n\u001b[0m",
      "\u001b[1;31mIndexError\u001b[0m: list index out of range"
     ]
    }
   ],
   "source": [
    "kl[1].split(\"\\n\")[4].split(\":\")[1].strip(\" \")"
   ]
  },
  {
   "cell_type": "markdown",
   "id": "0263744d-a4d0-4fcd-b879-058514870458",
   "metadata": {},
   "source": [
    "- System Up time"
   ]
  },
  {
   "cell_type": "code",
   "execution_count": null,
   "id": "945283f6-675b-42f9-a58b-e7d3709c4fa4",
   "metadata": {},
   "outputs": [],
   "source": [
    "!net statistics workstation"
   ]
  },
  {
   "cell_type": "code",
   "execution_count": 23,
   "id": "e7778d22-0b3d-488b-91cb-3146c844d663",
   "metadata": {},
   "outputs": [
    {
     "name": "stdout",
     "output_type": "stream",
     "text": [
      "2022-09-29 17:25:39\n"
     ]
    }
   ],
   "source": [
    "from datetime import datetime\n",
    "\n",
    "statics_text = subprocess.check_output(\"net statistics workstation\", shell=True, universal_newlines=True)\n",
    "up_time = \" \".join(statics_text.split(\"\\n\")[3].split(\" \")[2:])\n",
    "started_time = datetime.strptime(up_time, '%d-%m-%Y %H:%M:%S')\n",
    "print(started_time)"
   ]
  },
  {
   "cell_type": "code",
   "execution_count": 32,
   "id": "47b85039-89c4-48b7-a97a-6703404fc5d7",
   "metadata": {},
   "outputs": [
    {
     "name": "stdout",
     "output_type": "stream",
     "text": [
      "The type of the date is now <class 'datetime.datetime'>\n",
      "The date is 2019-09-18 01:55:19\n"
     ]
    }
   ],
   "source": [
    "from datetime import datetime\n",
    "\n",
    "date_time_str = '18-09-19 01:55:19'\n",
    "\n",
    "date_time_obj = datetime.strptime(date_time_str, '%d-%m-%y %H:%M:%S')\n",
    "\n",
    "\n",
    "print (\"The type of the date is now\",  type(date_time_obj))\n",
    "print (\"The date is\", date_time_obj)\n"
   ]
  }
 ],
 "metadata": {
  "kernelspec": {
   "display_name": "Python 3 (ipykernel)",
   "language": "python",
   "name": "python3"
  },
  "language_info": {
   "codemirror_mode": {
    "name": "ipython",
    "version": 3
   },
   "file_extension": ".py",
   "mimetype": "text/x-python",
   "name": "python",
   "nbconvert_exporter": "python",
   "pygments_lexer": "ipython3",
   "version": "3.9.7"
  }
 },
 "nbformat": 4,
 "nbformat_minor": 5
}
