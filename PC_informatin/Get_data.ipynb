{
 "cells": [
  {
   "cell_type": "code",
   "execution_count": 76,
   "id": "23059954-dacd-4345-84eb-2b7517811c13",
   "metadata": {},
   "outputs": [],
   "source": [
    "from datetime import timedelta, datetime\n",
    "import time\n",
    "import random"
   ]
  },
  {
   "cell_type": "code",
   "execution_count": 77,
   "id": "50eec8bb-5e71-42fc-9d5e-c62f94f6b6c2",
   "metadata": {},
   "outputs": [],
   "source": [
    "timenow=datetime.now()"
   ]
  },
  {
   "cell_type": "code",
   "execution_count": 96,
   "id": "0dea0b15-0559-42fc-a457-c00d8c798099",
   "metadata": {},
   "outputs": [
    {
     "ename": "AttributeError",
     "evalue": "'datetime.timedelta' object has no attribute 'strftime'",
     "output_type": "error",
     "traceback": [
      "\u001b[1;31m---------------------------------------------------------------------------\u001b[0m",
      "\u001b[1;31mAttributeError\u001b[0m                            Traceback (most recent call last)",
      "Input \u001b[1;32mIn [96]\u001b[0m, in \u001b[0;36m<cell line: 2>\u001b[1;34m()\u001b[0m\n\u001b[0;32m      2\u001b[0m presenttime\u001b[38;5;241m=\u001b[39mdatetime\u001b[38;5;241m.\u001b[39mnow()\n\u001b[0;32m      3\u001b[0m \u001b[38;5;66;03m# k=(presenttime-delta)#.strftime(\"%Y-%m-%d %H:%M:%S\")\u001b[39;00m\n\u001b[1;32m----> 4\u001b[0m k\u001b[38;5;241m=\u001b[39m\u001b[43m(\u001b[49m\u001b[43mpresenttime\u001b[49m\u001b[38;5;241;43m-\u001b[39;49m\u001b[43mtimenow\u001b[49m\u001b[43m)\u001b[49m\u001b[38;5;241;43m.\u001b[39;49m\u001b[43mstrftime\u001b[49m(\u001b[38;5;124m\"\u001b[39m\u001b[38;5;124m%\u001b[39m\u001b[38;5;124mY-\u001b[39m\u001b[38;5;124m%\u001b[39m\u001b[38;5;124mm-\u001b[39m\u001b[38;5;132;01m%d\u001b[39;00m\u001b[38;5;124m\"\u001b[39m)\n\u001b[0;32m      5\u001b[0m \u001b[38;5;66;03m# print(str(k).split(\".\")[0])\u001b[39;00m\n\u001b[0;32m      6\u001b[0m \u001b[38;5;28mprint\u001b[39m(k)\n",
      "\u001b[1;31mAttributeError\u001b[0m: 'datetime.timedelta' object has no attribute 'strftime'"
     ]
    }
   ],
   "source": [
    "while True:\n",
    "    presenttime=datetime.now()\n",
    "    # k=(presenttime-delta)#.strftime(\"%Y-%m-%d %H:%M:%S\")\n",
    "    k=(presenttime-timenow).strftime(\"%Y-%m-%d\")\n",
    "    # print(str(k).split(\".\")[0])\n",
    "    print(k)\n",
    "    time.sleep(int(random.randint(1,10)))"
   ]
  },
  {
   "cell_type": "code",
   "execution_count": 92,
   "id": "0c00bcff-c6f1-4363-842f-3e7baecdb146",
   "metadata": {},
   "outputs": [],
   "source": [
    "delta = timedelta(days=50,seconds=27,minutes=5,hours=8)"
   ]
  },
  {
   "cell_type": "code",
   "execution_count": 93,
   "id": "daf1b2a6-192c-48e7-8612-dbd92d5b8778",
   "metadata": {},
   "outputs": [
    {
     "data": {
      "text/plain": [
       "datetime.timedelta(days=50, seconds=29127)"
      ]
     },
     "execution_count": 93,
     "metadata": {},
     "output_type": "execute_result"
    }
   ],
   "source": [
    "delta"
   ]
  },
  {
   "cell_type": "code",
   "execution_count": 109,
   "id": "fb96ce0b-a3eb-4cf1-8ab3-d9c67fe7de01",
   "metadata": {},
   "outputs": [
    {
     "name": "stdout",
     "output_type": "stream",
     "text": [
      "<class 'datetime.timedelta'>\n"
     ]
    },
    {
     "ename": "TypeError",
     "evalue": "unsupported operand type(s) for +: 'datetime.datetime' and 'datetime.datetime'",
     "output_type": "error",
     "traceback": [
      "\u001b[1;31m---------------------------------------------------------------------------\u001b[0m",
      "\u001b[1;31mTypeError\u001b[0m                                 Traceback (most recent call last)",
      "Input \u001b[1;32mIn [109]\u001b[0m, in \u001b[0;36m<cell line: 7>\u001b[1;34m()\u001b[0m\n\u001b[0;32m      5\u001b[0m delta \u001b[38;5;241m=\u001b[39m td(days\u001b[38;5;241m=\u001b[39m\u001b[38;5;241m3\u001b[39m) \u001b[38;5;66;03m#initialize delta\u001b[39;00m\n\u001b[0;32m      6\u001b[0m \u001b[38;5;28mprint\u001b[39m(\u001b[38;5;28mtype\u001b[39m(delta))\n\u001b[1;32m----> 7\u001b[0m date_you_actually_want \u001b[38;5;241m=\u001b[39m \u001b[43mpresenttime\u001b[49m\u001b[38;5;241;43m+\u001b[39;49m\u001b[43mtoday\u001b[49m \u001b[38;5;66;03m# add the delta days\u001b[39;00m\n\u001b[0;32m      8\u001b[0m \u001b[38;5;28mprint\u001b[39m(\u001b[38;5;28mtype\u001b[39m(date_you_actually_want))\n\u001b[0;32m      9\u001b[0m date_you_actually_want\u001b[38;5;241m.\u001b[39mstrftime(\u001b[38;5;124m\"\u001b[39m\u001b[38;5;124m%\u001b[39m\u001b[38;5;124mY-\u001b[39m\u001b[38;5;124m%\u001b[39m\u001b[38;5;124mm-\u001b[39m\u001b[38;5;132;01m%d\u001b[39;00m\u001b[38;5;124m \u001b[39m\u001b[38;5;124m%\u001b[39m\u001b[38;5;124mH:\u001b[39m\u001b[38;5;124m%\u001b[39m\u001b[38;5;124mM:\u001b[39m\u001b[38;5;124m%\u001b[39m\u001b[38;5;124mS\u001b[39m\u001b[38;5;124m\"\u001b[39m)\n",
      "\u001b[1;31mTypeError\u001b[0m: unsupported operand type(s) for +: 'datetime.datetime' and 'datetime.datetime'"
     ]
    }
   ],
   "source": [
    "from datetime import datetime as dt\n",
    "from datetime import timedelta as td\n",
    "\n",
    "today = dt.now() # get date and time today\n",
    "delta = td(days=3) #initialize delta\n",
    "print(type(delta))\n",
    "date_you_actually_want = presenttime+today # add the delta days\n",
    "print(type(date_you_actually_want))\n",
    "date_you_actually_want.strftime(\"%Y-%m-%d %H:%M:%S\") # format it"
   ]
  },
  {
   "cell_type": "code",
   "execution_count": null,
   "id": "07170f75-81ea-47da-8464-b2c30153f0d6",
   "metadata": {},
   "outputs": [],
   "source": []
  }
 ],
 "metadata": {
  "kernelspec": {
   "display_name": "Python 3 (ipykernel)",
   "language": "python",
   "name": "python3"
  },
  "language_info": {
   "codemirror_mode": {
    "name": "ipython",
    "version": 3
   },
   "file_extension": ".py",
   "mimetype": "text/x-python",
   "name": "python",
   "nbconvert_exporter": "python",
   "pygments_lexer": "ipython3",
   "version": "3.9.12"
  }
 },
 "nbformat": 4,
 "nbformat_minor": 5
}
