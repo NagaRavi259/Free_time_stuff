{
 "cells": [
  {
   "cell_type": "markdown",
   "id": "549d544f-bcf4-438a-b83a-0c4a08c3c579",
   "metadata": {},
   "source": [
    "## Automating the mail tasks using python and windows services"
   ]
  },
  {
   "cell_type": "code",
   "execution_count": 1,
   "id": "6542e033",
   "metadata": {},
   "outputs": [],
   "source": [
    "#  importing the win32com.client to automating the tas\n",
    "import win32com.client as win32 "
   ]
  },
  {
   "cell_type": "code",
   "execution_count": 2,
   "id": "e6fadc1d",
   "metadata": {
    "scrolled": true
   },
   "outputs": [],
   "source": [
    "## Acessing Outlook mail installed in System \n",
    "outlook = win32.Dispatch('outlook.application')"
   ]
  },
  {
   "cell_type": "code",
   "execution_count": 3,
   "id": "d5a12b29",
   "metadata": {},
   "outputs": [],
   "source": [
    "mail = outlook.CreateItem(0)## Created a empty Mail \n",
    "mail.To = 'test@gmail.com' # Added a resipent \n",
    "mail.Subject = 'Trying to send email through python'## adding a subjectto mail\n",
    "mail.Body = 'text message to ' ## Adding body of the mail\n",
    "mail.HTMLBody = '<h5>HTML Message body</h5>' #We are using HTMl data to formate the data to send "
   ]
  },
  {
   "cell_type": "code",
   "execution_count": 4,
   "id": "bd43b1d0",
   "metadata": {},
   "outputs": [
    {
     "data": {
      "text/plain": [
       "<COMObject Add>"
      ]
     },
     "execution_count": 4,
     "metadata": {},
     "output_type": "execute_result"
    }
   ],
   "source": [
    "# To attach a file to the email (optional):\n",
    "attachment  = r'C:\\Users\\vnaga\\OneDrive\\JSW\\testing\\Run hr report\\Run Hr reading.ipynb' #Attaching the attachment to send the mail\n",
    "mail.Attachments.Add(attachment)"
   ]
  },
  {
   "cell_type": "code",
   "execution_count": 5,
   "id": "0ec1d341",
   "metadata": {},
   "outputs": [],
   "source": [
    "mail.Send() ## sending the mail that configured above cell"
   ]
  },
  {
   "cell_type": "code",
   "execution_count": null,
   "id": "36f309ca",
   "metadata": {},
   "outputs": [],
   "source": []
  }
 ],
 "metadata": {
  "kernelspec": {
   "display_name": "Python 3 (ipykernel)",
   "language": "python",
   "name": "python3"
  },
  "language_info": {
   "codemirror_mode": {
    "name": "ipython",
    "version": 3
   },
   "file_extension": ".py",
   "mimetype": "text/x-python",
   "name": "python",
   "nbconvert_exporter": "python",
   "pygments_lexer": "ipython3",
   "version": "3.9.7"
  }
 },
 "nbformat": 4,
 "nbformat_minor": 5
}
