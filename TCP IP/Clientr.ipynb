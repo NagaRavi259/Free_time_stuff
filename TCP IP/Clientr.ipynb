{
 "cells": [
  {
   "cell_type": "code",
   "execution_count": 1,
   "id": "1b8ca4ff-13fe-44ff-9ccc-e81122ecf684",
   "metadata": {},
   "outputs": [
    {
     "ename": "ConnectionRefusedError",
     "evalue": "[WinError 10061] No connection could be made because the target machine actively refused it",
     "output_type": "error",
     "traceback": [
      "\u001b[1;31m---------------------------------------------------------------------------\u001b[0m",
      "\u001b[1;31mConnectionRefusedError\u001b[0m                    Traceback (most recent call last)",
      "\u001b[1;32m~\\AppData\\Local\\Temp/ipykernel_13396/2049323178.py\u001b[0m in \u001b[0;36m<module>\u001b[1;34m\u001b[0m\n\u001b[0;32m      6\u001b[0m \u001b[0mport\u001b[0m \u001b[1;33m=\u001b[0m \u001b[1;36m4455\u001b[0m                   \u001b[1;31m# The same port as used by the server\u001b[0m\u001b[1;33m\u001b[0m\u001b[1;33m\u001b[0m\u001b[0m\n\u001b[0;32m      7\u001b[0m \u001b[0ms\u001b[0m \u001b[1;33m=\u001b[0m \u001b[0msocket\u001b[0m\u001b[1;33m.\u001b[0m\u001b[0msocket\u001b[0m\u001b[1;33m(\u001b[0m\u001b[0msocket\u001b[0m\u001b[1;33m.\u001b[0m\u001b[0mAF_INET\u001b[0m\u001b[1;33m,\u001b[0m \u001b[0msocket\u001b[0m\u001b[1;33m.\u001b[0m\u001b[0mSOCK_STREAM\u001b[0m\u001b[1;33m)\u001b[0m\u001b[1;33m\u001b[0m\u001b[1;33m\u001b[0m\u001b[0m\n\u001b[1;32m----> 8\u001b[1;33m \u001b[0ms\u001b[0m\u001b[1;33m.\u001b[0m\u001b[0mconnect\u001b[0m\u001b[1;33m(\u001b[0m\u001b[1;33m(\u001b[0m\u001b[0mhost\u001b[0m\u001b[1;33m,\u001b[0m \u001b[0mport\u001b[0m\u001b[1;33m)\u001b[0m\u001b[1;33m)\u001b[0m\u001b[1;33m\u001b[0m\u001b[1;33m\u001b[0m\u001b[0m\n\u001b[0m\u001b[0;32m      9\u001b[0m \u001b[0ms\u001b[0m\u001b[1;33m.\u001b[0m\u001b[0msendall\u001b[0m\u001b[1;33m(\u001b[0m\u001b[1;34mb'Hello, world'\u001b[0m\u001b[1;33m)\u001b[0m\u001b[1;33m\u001b[0m\u001b[1;33m\u001b[0m\u001b[0m\n\u001b[0;32m     10\u001b[0m \u001b[0mdata\u001b[0m \u001b[1;33m=\u001b[0m \u001b[0ms\u001b[0m\u001b[1;33m.\u001b[0m\u001b[0mrecv\u001b[0m\u001b[1;33m(\u001b[0m\u001b[1;36m1024\u001b[0m\u001b[1;33m)\u001b[0m\u001b[1;33m\u001b[0m\u001b[1;33m\u001b[0m\u001b[0m\n",
      "\u001b[1;31mConnectionRefusedError\u001b[0m: [WinError 10061] No connection could be made because the target machine actively refused it"
     ]
    }
   ],
   "source": [
    "import socket\n",
    "\n",
    "#host = socket.gethostname()\n",
    "host = socket.gethostbyname(socket.gethostname())\n",
    "#host = '127.0.0.1'\n",
    "port = 4455                   # The same port as used by the server\n",
    "s = socket.socket(socket.AF_INET, socket.SOCK_STREAM)\n",
    "s.connect((host, port))\n",
    "s.sendall(b'Hello, world')\n",
    "data = s.recv(1024)\n",
    "s.close()\n",
    "print('Received', repr(data))\n",
    "\n",
    "## Working"
   ]
  },
  {
   "cell_type": "code",
   "execution_count": null,
   "id": "45a3ef38-5ebd-489b-92c5-8b3104cc9e4a",
   "metadata": {},
   "outputs": [],
   "source": [
    "import socket\n",
    "IP = socket.gethostbyname(socket.gethostname())\n",
    "PORT = 4455\n",
    "ADDR = (IP, PORT)\n",
    "FORMAT = \"utf-8\"\n",
    "SIZE = 1024\n",
    "def main():\n",
    "    #\"\"\" Staring a TCP socket. \"\"\"\n",
    "    client = socket.socket(socket.AF_INET, socket.SOCK_STREAM)\n",
    "    #\"\"\" Connecting to the server. \"\"\"\n",
    "    client.connect(ADDR)\n",
    "    #\"\"\" Opening and reading the file data. \"\"\"\n",
    "    file = open(\"yt.txt\", \"r\")\n",
    "    data = file.read()\n",
    "    #\"\"\" Sending the filename to the server. \"\"\"\n",
    "    client.send(\"yt.txt\".encode(FORMAT))\n",
    "    msg = client.recv(SIZE).decode(FORMAT)\n",
    "    print(f\"[SERVER]: {msg}\")\n",
    "    #\"\"\" Sending the file data to the server. \"\"\"\n",
    "    client.send(data.encode(FORMAT))\n",
    "    msg = client.recv(SIZE).decode(FORMAT)\n",
    "    #print(f\"[SERVER]: {msg}\")\n",
    "    #\"\"\" Closing the file. \"\"\"\n",
    "    file.close()\n",
    "    #\"\"\" Closing the connection from the server. \"\"\"\n",
    "    client.close()\n",
    "if __name__ == \"__main__\":\n",
    "    main()"
   ]
  }
 ],
 "metadata": {
  "kernelspec": {
   "display_name": "Python 3 (ipykernel)",
   "language": "python",
   "name": "python3"
  },
  "language_info": {
   "codemirror_mode": {
    "name": "ipython",
    "version": 3
   },
   "file_extension": ".py",
   "mimetype": "text/x-python",
   "name": "python",
   "nbconvert_exporter": "python",
   "pygments_lexer": "ipython3",
   "version": "3.9.7"
  }
 },
 "nbformat": 4,
 "nbformat_minor": 5
}
