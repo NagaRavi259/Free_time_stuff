{
 "cells": [
  {
   "cell_type": "code",
   "execution_count": null,
   "id": "d3920903-81f1-4f01-9d9c-ed2686847d7f",
   "metadata": {},
   "outputs": [
    {
     "name": "stdout",
     "output_type": "stream",
     "text": [
      "100.99.150.11\n",
      "[STARTING] Server is starting.\n",
      "[LISTENING] Server is listening.\n",
      "[NEW CONNECTION] ('100.99.150.11', 56422) connected.\n",
      "[RECV] Receiving the filename.\n",
      "[DISCONNECTED] ('100.99.150.11', 56422) disconnected.\n",
      "[NEW CONNECTION] ('100.99.150.11', 56430) connected.\n",
      "[RECV] Receiving the filename.\n",
      "[DISCONNECTED] ('100.99.150.11', 56430) disconnected.\n"
     ]
    }
   ],
   "source": [
    "import socket\n",
    "\n",
    "IP = socket.gethostbyname(socket.gethostname())\n",
    "print(IP)\n",
    "PORT = 4455\n",
    "ADDR = (IP, PORT)\n",
    "SIZE = 1024\n",
    "FORMAT = \"utf-8\"\n",
    "\n",
    "def main():\n",
    "    print(\"[STARTING] Server is starting.\")\n",
    "    #\"\"\" Staring a TCP socket. \"\"\"\n",
    "    server = socket.socket(socket.AF_INET, socket.SOCK_STREAM)\n",
    "    #\"\"\" Bind the IP and PORT to the server. \"\"\"\n",
    "    server.bind(ADDR)\n",
    "    #\"\"\" Server is listening, i.e., server is now waiting for the client to connected. \"\"\"\n",
    "    server.listen()\n",
    "    print(\"[LISTENING] Server is listening.\")\n",
    "    while True:\n",
    "        #\"\"\" Server has accepted the connection from the client. \"\"\"\n",
    "        conn, addr = server.accept()\n",
    "        print(f\"[NEW CONNECTION] {addr} connected.\")\n",
    "        #\"\"\" Receiving the filename from the client. \"\"\"\n",
    "        filename = conn.recv(SIZE).decode(FORMAT)\n",
    "        print(f\"[RECV] Receiving the filename.\")\n",
    "        file = open(filename, \"w\")\n",
    "        conn.send(\"Filename received.\".encode(FORMAT))\n",
    "        #\"\"\" Receiving the file data from the client. \"\"\"\n",
    "        data = conn.recv(SIZE).decode(FORMAT)\n",
    "        #print(f\"[RECV] Receiving the file data.\")\n",
    "        file.write(data)\n",
    "        conn.send(\"File data received\".encode(FORMAT))\n",
    "        #\"\"\" Closing the file. \"\"\"\n",
    "        file.close()\n",
    "        #\"\"\" Closing the connection from the client. \"\"\"\n",
    "        conn.close()\n",
    "        print(f\"[DISCONNECTED] {addr} disconnected.\")\n",
    "if __name__ == \"__main__\":\n",
    "    main()\n",
    "    pass"
   ]
  },
  {
   "cell_type": "code",
   "execution_count": null,
   "id": "849340db-3326-4486-b8bd-574b75c7f5df",
   "metadata": {},
   "outputs": [],
   "source": []
  }
 ],
 "metadata": {
  "kernelspec": {
   "display_name": "Python 3 (ipykernel)",
   "language": "python",
   "name": "python3"
  },
  "language_info": {
   "codemirror_mode": {
    "name": "ipython",
    "version": 3
   },
   "file_extension": ".py",
   "mimetype": "text/x-python",
   "name": "python",
   "nbconvert_exporter": "python",
   "pygments_lexer": "ipython3",
   "version": "3.9.7"
  }
 },
 "nbformat": 4,
 "nbformat_minor": 5
}
