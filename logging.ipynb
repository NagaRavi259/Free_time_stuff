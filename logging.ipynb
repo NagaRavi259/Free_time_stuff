{
 "cells": [
  {
   "cell_type": "markdown",
   "id": "12632f51-66fa-42d9-9b3f-63701fc7ec57",
   "metadata": {},
   "source": [
    "## Creating the logs using python and logging module"
   ]
  },
  {
   "cell_type": "code",
   "execution_count": null,
   "id": "788c6fac-3191-4221-a832-296a068e0492",
   "metadata": {},
   "outputs": [],
   "source": [
    "import logging\n",
    "# ...\n",
    "def test_log():\n",
    "    k=0\n",
    "    while k<50:\n",
    "        k=k+1\n",
    "        logging.file1.info('Write this to file 1',k)\n",
    "        logging.file2.info('Write this to file 2',k+5)\n",
    "    return k"
   ]
  },
  {
   "cell_type": "code",
   "execution_count": null,
   "id": "c29ae287-cb21-4c9d-94ef-fca9c6b41f12",
   "metadata": {},
   "outputs": [],
   "source": [
    "test_log()"
   ]
  },
  {
   "cell_type": "code",
   "execution_count": null,
   "id": "2ff1fecf-90d9-4576-813d-51fa7162e8f6",
   "metadata": {},
   "outputs": [],
   "source": [
    "dir(logging)"
   ]
  },
  {
   "cell_type": "markdown",
   "id": "197ceb05-657d-4017-84e8-af4d621876b1",
   "metadata": {},
   "source": [
    "## Logging the multiple function in the same file"
   ]
  },
  {
   "cell_type": "code",
   "execution_count": 1,
   "id": "17fa7689-0c8f-48b7-acbb-8bcaea0c221d",
   "metadata": {},
   "outputs": [
    {
     "name": "stderr",
     "output_type": "stream",
     "text": [
      "2022-10-01 12:37:01,003 : I was looking at the Python logging library as I needed to create 2\n",
      "2022-10-01 12:37:01,006 : log files for different logging purposes. I ended up creating the following Python log functions.\n",
      "2022-10-01 12:37:01,008 : Oh, no! Something went wrong!I was looking at the Python logging library as I needed to create 2\n",
      "2022-10-01 12:37:01,011 : This is forlog 2log files for different logging purposes. I ended up creating the following Python log functions.\n"
     ]
    }
   ],
   "source": [
    "from __future__ import absolute_import\n",
    "\n",
    "import logging\n",
    "\n",
    "def setup_logger(logger_name, log_file, level=logging.INFO):\n",
    "    l = logging.getLogger(logger_name)\n",
    "    formatter = logging.Formatter('%(asctime)s : %(message)s')\n",
    "    fileHandler = logging.FileHandler(log_file, mode='w')\n",
    "    fileHandler.setFormatter(formatter)\n",
    "    streamHandler = logging.StreamHandler()\n",
    "    streamHandler.setFormatter(formatter)\n",
    "\n",
    "    l.setLevel(level)\n",
    "    l.addHandler(fileHandler)\n",
    "    l.addHandler(streamHandler)    \n",
    "\n",
    "    \n",
    "def main():\n",
    "    setup_logger('log1', r'log1.log')\n",
    "    setup_logger('log2', r'log2.log')\n",
    "    log1 = logging.getLogger('log1')\n",
    "    log2 = logging.getLogger('log2')\n",
    "    var1=\"I was looking at the Python logging library as I needed to create 2\"\n",
    "    var2=\"log files for different logging purposes. I ended up creating the following Python log functions.\"\n",
    "    log1.info(var1)\n",
    "    log2.info(var2)\n",
    "    log1.error('Oh, no! Something went wrong!'+var1)\n",
    "    log2.error('This is forlog 2'+var2)\n",
    "if '__main__' == __name__:\n",
    "    main()"
   ]
  },
  {
   "cell_type": "code",
   "execution_count": null,
   "id": "eecd0221-3726-4a49-8add-2acd6d908f32",
   "metadata": {},
   "outputs": [],
   "source": []
  }
 ],
 "metadata": {
  "kernelspec": {
   "display_name": "Python 3 (ipykernel)",
   "language": "python",
   "name": "python3"
  },
  "language_info": {
   "codemirror_mode": {
    "name": "ipython",
    "version": 3
   },
   "file_extension": ".py",
   "mimetype": "text/x-python",
   "name": "python",
   "nbconvert_exporter": "python",
   "pygments_lexer": "ipython3",
   "version": "3.9.7"
  }
 },
 "nbformat": 4,
 "nbformat_minor": 5
}
